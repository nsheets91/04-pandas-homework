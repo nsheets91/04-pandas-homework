{
 "cells": [
  {
   "cell_type": "markdown",
   "metadata": {},
   "source": [
    "### Note\n",
    "* Instructions have been included for each segment. You do not have to follow them exactly, but they are included to help you think through the steps."
   ]
  },
  {
   "cell_type": "code",
   "execution_count": 1,
   "metadata": {},
   "outputs": [],
   "source": [
    "# Dependencies and Setup\n",
    "import pandas as pd\n",
    "import numpy as np\n",
    "import os\n",
    "\n",
    "# File to Load \n",
    "file_load = \"Resources/purchase_data.csv\"\n",
    "\n",
    "# Read Purchasing File and store into Pandas data frame\n",
    "purchase_data = pd.read_csv(file_load)"
   ]
  },
  {
   "cell_type": "markdown",
   "metadata": {},
   "source": [
    "## Player Count"
   ]
  },
  {
   "cell_type": "markdown",
   "metadata": {},
   "source": [
    "* Display the total number of players\n"
   ]
  },
  {
   "cell_type": "code",
   "execution_count": 2,
   "metadata": {},
   "outputs": [
    {
     "name": "stdout",
     "output_type": "stream",
     "text": [
      "Total number of players:780\n"
     ]
    }
   ],
   "source": [
    "player_count = purchase_data[\"SN\"].count()\n",
    "player_count\n",
    "\n",
    "print(\"Total number of players:\" + str(player_count))\n",
    "#player_count_df = pd.DataFrame({\"Total Players\"[total_players]})"
   ]
  },
  {
   "cell_type": "markdown",
   "metadata": {},
   "source": [
    "## Purchasing Analysis (Total)"
   ]
  },
  {
   "cell_type": "markdown",
   "metadata": {},
   "source": [
    "* Run basic calculations to obtain number of unique items, average price, etc.\n",
    "\n",
    "\n",
    "* Create a summary data frame to hold the results\n",
    "\n",
    "\n",
    "* Optional: give the displayed data cleaner formatting\n",
    "\n",
    "\n",
    "* Display the summary data frame\n"
   ]
  },
  {
   "cell_type": "code",
   "execution_count": 3,
   "metadata": {
    "scrolled": true
   },
   "outputs": [
    {
     "data": {
      "text/html": [
       "<div>\n",
       "<style scoped>\n",
       "    .dataframe tbody tr th:only-of-type {\n",
       "        vertical-align: middle;\n",
       "    }\n",
       "\n",
       "    .dataframe tbody tr th {\n",
       "        vertical-align: top;\n",
       "    }\n",
       "\n",
       "    .dataframe thead th {\n",
       "        text-align: right;\n",
       "    }\n",
       "</style>\n",
       "<table border=\"1\" class=\"dataframe\">\n",
       "  <thead>\n",
       "    <tr style=\"text-align: right;\">\n",
       "      <th></th>\n",
       "      <th>Unique Items</th>\n",
       "      <th>Average Price</th>\n",
       "      <th>Number of purchases</th>\n",
       "      <th>Total Sales</th>\n",
       "    </tr>\n",
       "  </thead>\n",
       "  <tbody>\n",
       "    <tr>\n",
       "      <th>0</th>\n",
       "      <td>179</td>\n",
       "      <td>3.05</td>\n",
       "      <td>780</td>\n",
       "      <td>2379.77</td>\n",
       "    </tr>\n",
       "  </tbody>\n",
       "</table>\n",
       "</div>"
      ],
      "text/plain": [
       "   Unique Items  Average Price  Number of purchases  Total Sales\n",
       "0           179           3.05                  780      2379.77"
      ]
     },
     "execution_count": 3,
     "metadata": {},
     "output_type": "execute_result"
    }
   ],
   "source": [
    "#Run basic calculations to obtain number of unique items, average price, etc.\n",
    "unique_items = purchase_data[\"Item ID\"].nunique()\n",
    "unique_items\n",
    "\n",
    "avg_price = purchase_data[\"Price\"].mean() \n",
    "average_price_rounded = np.round(avg_price,2)\n",
    "average_price_rounded\n",
    "\n",
    "purchase_total = purchase_data[\"Purchase ID\"].count()\n",
    "purchase_total\n",
    "\n",
    "total_sales = purchase_data[\"Price\"].sum()\n",
    "total_sales\n",
    "\n",
    "#summary data frame to hold the results\n",
    "summary_results_df = pd.DataFrame({\"Unique Items\" : [unique_items],                                                                                                                                                                                                                                                          \n",
    "                                \"Average Price\" : [average_price_rounded],\n",
    "                                \"Number of purchases\" : [purchase_total],\n",
    "                                \"Total Sales\" : [total_sales]})\n",
    "summary_results_df"
   ]
  },
  {
   "cell_type": "markdown",
   "metadata": {},
   "source": [
    "## Gender Demographics"
   ]
  },
  {
   "cell_type": "markdown",
   "metadata": {},
   "source": [
    "* Percentage and Count of Male Players\n",
    "\n",
    "\n",
    "* Percentage and Count of Female Players\n",
    "\n",
    "\n",
    "* Percentage and Count of Other / Non-Disclosed\n",
    "\n",
    "\n"
   ]
  },
  {
   "cell_type": "code",
   "execution_count": 4,
   "metadata": {},
   "outputs": [
    {
     "data": {
      "text/html": [
       "<div>\n",
       "<style scoped>\n",
       "    .dataframe tbody tr th:only-of-type {\n",
       "        vertical-align: middle;\n",
       "    }\n",
       "\n",
       "    .dataframe tbody tr th {\n",
       "        vertical-align: top;\n",
       "    }\n",
       "\n",
       "    .dataframe thead th {\n",
       "        text-align: right;\n",
       "    }\n",
       "</style>\n",
       "<table border=\"1\" class=\"dataframe\">\n",
       "  <thead>\n",
       "    <tr style=\"text-align: right;\">\n",
       "      <th></th>\n",
       "      <th>Total Count</th>\n",
       "      <th>Percent of Players</th>\n",
       "    </tr>\n",
       "    <tr>\n",
       "      <th>Gender</th>\n",
       "      <th></th>\n",
       "      <th></th>\n",
       "    </tr>\n",
       "  </thead>\n",
       "  <tbody>\n",
       "    <tr>\n",
       "      <th>Male</th>\n",
       "      <td>652</td>\n",
       "      <td>83.6</td>\n",
       "    </tr>\n",
       "    <tr>\n",
       "      <th>Female</th>\n",
       "      <td>113</td>\n",
       "      <td>14.5</td>\n",
       "    </tr>\n",
       "    <tr>\n",
       "      <th>Other/Non-Disclosed</th>\n",
       "      <td>15</td>\n",
       "      <td>1.9</td>\n",
       "    </tr>\n",
       "  </tbody>\n",
       "</table>\n",
       "</div>"
      ],
      "text/plain": [
       "                     Total Count  Percent of Players\n",
       "Gender                                              \n",
       "Male                         652                83.6\n",
       "Female                       113                14.5\n",
       "Other/Non-Disclosed           15                 1.9"
      ]
     },
     "execution_count": 4,
     "metadata": {},
     "output_type": "execute_result"
    }
   ],
   "source": [
    "# Count of Male Players\n",
    "demographics = purchase_data.loc[purchase_data[\"Gender\"] == \"Male\"]\n",
    "males = len(demographics)\n",
    "\n",
    "# Count of Female Players\n",
    "demographics = purchase_data.loc[purchase_data[\"Gender\"] == \"Female\"]\n",
    "females = len(demographics)\n",
    "\n",
    "#Count of others \n",
    "demographics = purchase_data.loc[purchase_data[\"Gender\"] == \"Other / Non-Disclosed\"]\n",
    "oth_non_players = len(demographics)\n",
    "\n",
    "#% of male players\n",
    "males_percent = males / player_count * 100\n",
    "males_percent\n",
    "\n",
    "#% of Female players\n",
    "females_percent = females / player_count * 100\n",
    "\n",
    "#% of thhers/nondisclosed \n",
    "oth_non_players_percent = oth_non_players / player_count * 100\n",
    "oth_non_players_percent\n",
    "\n",
    "demographics_data = pd. DataFrame({\n",
    "\"Total Count\" : [males, females, oth_non_players], \n",
    "\"Percent of Players\" : [males_percent, females_percent, oth_non_players_percent], \n",
    "\"Gender\": [\"Male\", \"Female\",\"Other/Non-Disclosed\"]\n",
    "}).round(1) \n",
    "\n",
    "demographics_data_chart = demographics_data.set_index(\"Gender\")\n",
    "demographics_data_chart\n",
    "\n"
   ]
  },
  {
   "cell_type": "markdown",
   "metadata": {},
   "source": [
    "\n",
    "## Purchasing Analysis (Gender)"
   ]
  },
  {
   "cell_type": "markdown",
   "metadata": {},
   "source": [
    "* Run basic calculations to obtain purchase count, avg. purchase price, avg. purchase total per person etc. by gender\n",
    "\n",
    "\n",
    "\n",
    "\n",
    "* Create a summary data frame to hold the results\n",
    "\n",
    "\n",
    "* Optional: give the displayed data cleaner formatting\n",
    "\n",
    "\n",
    "* Display the summary data frame"
   ]
  },
  {
   "cell_type": "code",
   "execution_count": 15,
   "metadata": {},
   "outputs": [
    {
     "data": {
      "text/plain": [
       "3.0178527607361953"
      ]
     },
     "execution_count": 15,
     "metadata": {},
     "output_type": "execute_result"
    }
   ],
   "source": [
    "#Purchase count and purchase average\n",
    "\n",
    "purchase_by_gender = purchase_data.loc[purchase_data[\"Gender\"]== \"Male\"]\n",
    "purchase_count_male = purchase_by_gender[\"Price\"].count()\n",
    "purchase_average_male = purchase_by_gender[\"Price\"].mean()\n",
    "purchase_average_male"
   ]
  },
  {
   "cell_type": "code",
   "execution_count": 13,
   "metadata": {},
   "outputs": [
    {
     "data": {
      "text/html": [
       "<div>\n",
       "<style scoped>\n",
       "    .dataframe tbody tr th:only-of-type {\n",
       "        vertical-align: middle;\n",
       "    }\n",
       "\n",
       "    .dataframe tbody tr th {\n",
       "        vertical-align: top;\n",
       "    }\n",
       "\n",
       "    .dataframe thead th {\n",
       "        text-align: right;\n",
       "    }\n",
       "</style>\n",
       "<table border=\"1\" class=\"dataframe\">\n",
       "  <thead>\n",
       "    <tr style=\"text-align: right;\">\n",
       "      <th></th>\n",
       "      <th>Purchase ID</th>\n",
       "      <th>SN</th>\n",
       "      <th>Age</th>\n",
       "      <th>Gender</th>\n",
       "      <th>Item ID</th>\n",
       "      <th>Item Name</th>\n",
       "      <th>Price</th>\n",
       "    </tr>\n",
       "  </thead>\n",
       "  <tbody>\n",
       "  </tbody>\n",
       "</table>\n",
       "</div>"
      ],
      "text/plain": [
       "Empty DataFrame\n",
       "Columns: [Purchase ID, SN, Age, Gender, Item ID, Item Name, Price]\n",
       "Index: []"
      ]
     },
     "execution_count": 13,
     "metadata": {},
     "output_type": "execute_result"
    }
   ],
   "source": [
    "purchase_by_gender = purchase_data.loc[purchase_data[\"Gender\"]== \"FeMale\"]\n",
    "purchase_count_female = purchase_by_gender[\"Price\"].count()\n",
    "purchase_average_female = purchase_by_gender[\"Price\"].mean()\n",
    "purchase_by_gender.head()"
   ]
  },
  {
   "cell_type": "code",
   "execution_count": null,
   "metadata": {},
   "outputs": [],
   "source": [
    "\n",
    "purchase_by_gender = purchase_data.loc[purchase_data[\"Gender\"== \"Other / non disclosed\"]\n",
    "purchase_count_other = purchase_by_gender[\"Price\"].count()\n",
    "purchase_average_other = purchase_by_gender[\"Price\"].mean()\n",
    "\n"
   ]
  },
  {
   "cell_type": "code",
   "execution_count": null,
   "metadata": {},
   "outputs": [],
   "source": []
  },
  {
   "cell_type": "code",
   "execution_count": null,
   "metadata": {},
   "outputs": [],
   "source": [
    "#Created data frame \n",
    "gender_purchase_df = pd.DataFrame({\n",
    "\"Purchase Count\" : [males, females, oth_non_players],\n",
    "\"Avg Purchase Price\" : [purchase_average_male, purchase_average_female, purchase_average_other],\n",
    "\"Avg Total Purchase Price\" : [purchase_count_male, purchase_count_female, purchase_count_other]\n",
    "}).round \n",
    "    \n",
    "\n"
   ]
  },
  {
   "cell_type": "markdown",
   "metadata": {},
   "source": [
    "## Age Demographics"
   ]
  },
  {
   "cell_type": "markdown",
   "metadata": {},
   "source": [
    "* Establish bins for ages\n",
    "\n",
    "\n",
    "* Categorize the existing players using the age bins. Hint: use pd.cut()\n",
    "\n",
    "\n",
    "* Calculate the numbers and percentages by age group\n",
    "\n",
    "\n",
    "* Create a summary data frame to hold the results\n",
    "\n",
    "\n",
    "* Optional: round the percentage column to two decimal points\n",
    "\n",
    "\n",
    "* Display Age Demographics Table\n"
   ]
  },
  {
   "cell_type": "code",
   "execution_count": null,
   "metadata": {},
   "outputs": [],
   "source": [
    "#establish bins for ages##\n",
    "purchase_data.dtypes\n",
    "master_bin = purchase.data[\"Age\"].astype(str).astype(int)\n",
    "purchase_data.dtypes\n",
    "\n"
   ]
  },
  {
   "cell_type": "markdown",
   "metadata": {},
   "source": [
    "## Purchasing Analysis (Age)"
   ]
  },
  {
   "cell_type": "markdown",
   "metadata": {},
   "source": [
    "* Bin the purchase_data data frame by age\n",
    "\n",
    "\n",
    "* Run basic calculations to obtain purchase count, avg. purchase price, avg. purchase total per person etc. in the table below\n",
    "\n",
    "\n",
    "* Create a summary data frame to hold the results\n",
    "\n",
    "\n",
    "* Optional: give the displayed data cleaner formatting\n",
    "\n",
    "\n",
    "* Display the summary data frame"
   ]
  },
  {
   "cell_type": "code",
   "execution_count": null,
   "metadata": {},
   "outputs": [],
   "source": [
    "bin_ages = [0, 9.9, 15.9, 20.9, 25.9, 30.9, 35.9, 105]\n",
    "age_range = [\"under 10\", \"10-15\", \"16-20\", \"21-25\", \"26-30\", \"31-35\", \"36-40\", \"over 40\"]\n",
    "\n"
   ]
  },
  {
   "cell_type": "markdown",
   "metadata": {},
   "source": []
  },
  {
   "cell_type": "markdown",
   "metadata": {},
   "source": [
    "\n"
   ]
  },
  {
   "cell_type": "code",
   "execution_count": null,
   "metadata": {},
   "outputs": [],
   "source": [
    " #Run basic calculations to obtain the results in the table below\n",
    "top_spenders = purchase_data.groupby(\"SN\")\n",
    "\n",
    "top_count = top_spenders(\"Price\").count\n",
    "top_total = top_spenders(\"Price\").sum\n",
    "top_average = top_spenders(\"Price\").mean\n",
    "\n",
    "#Created a summary data frame to hold the results\n",
    "total_sp_df = pd.DataFrame({\n",
    "\"Purchase Count\" : top_count\n",
    "#\"Avg Purchase Price\" : top_average\n",
    "#\"Total Purchase Value\" : top_total}).round\n",
    "\n",
    "#Sort the total purchase value column in descending order\n",
    "#total_sp_df = total_sp_df.sort_values(by = \"Purchase Count\", \"Avg Purchase Price\", \"Total Purchase Value\")\n",
    "total_sp_df = total_sp_df.sort_values(by = \"Total Purchase Value\", ascending = false)\n",
    "\n",
    "total_sp_df.head\n",
    "\n",
    "\n"
   ]
  },
  {
   "cell_type": "markdown",
   "metadata": {},
   "source": [
    "## Most Popular Items"
   ]
  },
  {
   "cell_type": "markdown",
   "metadata": {},
   "source": [
    "* Retrieve the Item ID, Item Name, and Item Price columns\n",
    "\n",
    "\n",
    "* Group by Item ID and Item Name. Perform calculations to obtain purchase count, average item price, and total purchase value\n",
    "\n",
    "\n",
    "* Create a summary data frame to hold the results\n",
    "\n",
    "\n",
    "* Sort the purchase count column in descending order\n",
    "\n",
    "\n",
    "* Optional: give the displayed data cleaner formatting\n",
    "\n",
    "\n",
    "* Display a preview of the summary data frame\n",
    "\n"
   ]
  },
  {
   "cell_type": "code",
   "execution_count": null,
   "metadata": {},
   "outputs": [],
   "source": []
  },
  {
   "cell_type": "markdown",
   "metadata": {},
   "source": [
    "## Most Profitable Items"
   ]
  },
  {
   "cell_type": "markdown",
   "metadata": {},
   "source": [
    "* Sort the above table by total purchase value in descending order\n",
    "\n",
    "\n",
    "* Optional: give the displayed data cleaner formatting\n",
    "\n",
    "\n",
    "* Display a preview of the data frame\n",
    "\n"
   ]
  },
  {
   "cell_type": "code",
   "execution_count": null,
   "metadata": {
    "scrolled": true
   },
   "outputs": [],
   "source": []
  }
 ],
 "metadata": {
  "anaconda-cloud": {},
  "kernel_info": {
   "name": "python3"
  },
  "kernelspec": {
   "display_name": "Python 3",
   "language": "python",
   "name": "python3"
  },
  "language_info": {
   "codemirror_mode": {
    "name": "ipython",
    "version": 3
   },
   "file_extension": ".py",
   "mimetype": "text/x-python",
   "name": "python",
   "nbconvert_exporter": "python",
   "pygments_lexer": "ipython3",
   "version": "3.8.5"
  },
  "latex_envs": {
   "LaTeX_envs_menu_present": true,
   "autoclose": false,
   "autocomplete": true,
   "bibliofile": "biblio.bib",
   "cite_by": "apalike",
   "current_citInitial": 1,
   "eqLabelWithNumbers": true,
   "eqNumInitial": 1,
   "hotkeys": {
    "equation": "Ctrl-E",
    "itemize": "Ctrl-I"
   },
   "labels_anchors": false,
   "latex_user_defs": false,
   "report_style_numbering": false,
   "user_envs_cfg": false
  },
  "nteract": {
   "version": "0.2.0"
  }
 },
 "nbformat": 4,
 "nbformat_minor": 2
}
